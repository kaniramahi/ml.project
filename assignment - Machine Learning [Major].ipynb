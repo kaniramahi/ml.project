{
 "cells": [
  {
   "cell_type": "code",
   "execution_count": 128,
   "id": "3f0bb1c9",
   "metadata": {},
   "outputs": [],
   "source": [
    "import pandas as pd\n",
    "import pickle\n",
    "import matplotlib.pyplot as plt\n",
    "import seaborn as sns\n",
    "import numpy as np"
   ]
  },
  {
   "cell_type": "code",
   "execution_count": 129,
   "id": "bd6c7e47",
   "metadata": {},
   "outputs": [
    {
     "data": {
      "text/html": [
       "<div>\n",
       "<style scoped>\n",
       "    .dataframe tbody tr th:only-of-type {\n",
       "        vertical-align: middle;\n",
       "    }\n",
       "\n",
       "    .dataframe tbody tr th {\n",
       "        vertical-align: top;\n",
       "    }\n",
       "\n",
       "    .dataframe thead th {\n",
       "        text-align: right;\n",
       "    }\n",
       "</style>\n",
       "<table border=\"1\" class=\"dataframe\">\n",
       "  <thead>\n",
       "    <tr style=\"text-align: right;\">\n",
       "      <th></th>\n",
       "      <th>f_1</th>\n",
       "      <th>f_2</th>\n",
       "      <th>f_3</th>\n",
       "      <th>f_4</th>\n",
       "      <th>f_5</th>\n",
       "      <th>f_6</th>\n",
       "      <th>f_7</th>\n",
       "      <th>f_8</th>\n",
       "      <th>f_9</th>\n",
       "      <th>f_10</th>\n",
       "      <th>...</th>\n",
       "      <th>f_41</th>\n",
       "      <th>f_42</th>\n",
       "      <th>f_43</th>\n",
       "      <th>f_44</th>\n",
       "      <th>f_45</th>\n",
       "      <th>f_46</th>\n",
       "      <th>f_47</th>\n",
       "      <th>f_48</th>\n",
       "      <th>f_49</th>\n",
       "      <th>target</th>\n",
       "    </tr>\n",
       "  </thead>\n",
       "  <tbody>\n",
       "    <tr>\n",
       "      <th>0</th>\n",
       "      <td>1</td>\n",
       "      <td>2558</td>\n",
       "      <td>1506.09</td>\n",
       "      <td>456.63</td>\n",
       "      <td>90</td>\n",
       "      <td>6395000</td>\n",
       "      <td>40.88</td>\n",
       "      <td>7.89</td>\n",
       "      <td>29780.0</td>\n",
       "      <td>0.19</td>\n",
       "      <td>...</td>\n",
       "      <td>2850.00</td>\n",
       "      <td>1000.00</td>\n",
       "      <td>763.16</td>\n",
       "      <td>135.46</td>\n",
       "      <td>3.73</td>\n",
       "      <td>0</td>\n",
       "      <td>33243.19</td>\n",
       "      <td>65.74</td>\n",
       "      <td>7.95</td>\n",
       "      <td>1</td>\n",
       "    </tr>\n",
       "    <tr>\n",
       "      <th>1</th>\n",
       "      <td>2</td>\n",
       "      <td>22325</td>\n",
       "      <td>79.11</td>\n",
       "      <td>841.03</td>\n",
       "      <td>180</td>\n",
       "      <td>55812500</td>\n",
       "      <td>51.11</td>\n",
       "      <td>1.21</td>\n",
       "      <td>61900.0</td>\n",
       "      <td>0.02</td>\n",
       "      <td>...</td>\n",
       "      <td>5750.00</td>\n",
       "      <td>11500.00</td>\n",
       "      <td>9593.48</td>\n",
       "      <td>1648.80</td>\n",
       "      <td>0.60</td>\n",
       "      <td>0</td>\n",
       "      <td>51572.04</td>\n",
       "      <td>65.73</td>\n",
       "      <td>6.26</td>\n",
       "      <td>0</td>\n",
       "    </tr>\n",
       "    <tr>\n",
       "      <th>2</th>\n",
       "      <td>3</td>\n",
       "      <td>115</td>\n",
       "      <td>1449.85</td>\n",
       "      <td>608.43</td>\n",
       "      <td>88</td>\n",
       "      <td>287500</td>\n",
       "      <td>40.42</td>\n",
       "      <td>7.34</td>\n",
       "      <td>3340.0</td>\n",
       "      <td>0.18</td>\n",
       "      <td>...</td>\n",
       "      <td>1400.00</td>\n",
       "      <td>250.00</td>\n",
       "      <td>150.00</td>\n",
       "      <td>45.13</td>\n",
       "      <td>9.33</td>\n",
       "      <td>1</td>\n",
       "      <td>31692.84</td>\n",
       "      <td>65.81</td>\n",
       "      <td>7.84</td>\n",
       "      <td>1</td>\n",
       "    </tr>\n",
       "    <tr>\n",
       "      <th>3</th>\n",
       "      <td>4</td>\n",
       "      <td>1201</td>\n",
       "      <td>1562.53</td>\n",
       "      <td>295.65</td>\n",
       "      <td>66</td>\n",
       "      <td>3002500</td>\n",
       "      <td>42.40</td>\n",
       "      <td>7.97</td>\n",
       "      <td>18030.0</td>\n",
       "      <td>0.19</td>\n",
       "      <td>...</td>\n",
       "      <td>6041.52</td>\n",
       "      <td>761.58</td>\n",
       "      <td>453.21</td>\n",
       "      <td>144.97</td>\n",
       "      <td>13.33</td>\n",
       "      <td>1</td>\n",
       "      <td>37696.21</td>\n",
       "      <td>65.67</td>\n",
       "      <td>8.07</td>\n",
       "      <td>1</td>\n",
       "    </tr>\n",
       "    <tr>\n",
       "      <th>4</th>\n",
       "      <td>5</td>\n",
       "      <td>312</td>\n",
       "      <td>950.27</td>\n",
       "      <td>440.86</td>\n",
       "      <td>37</td>\n",
       "      <td>780000</td>\n",
       "      <td>41.43</td>\n",
       "      <td>7.03</td>\n",
       "      <td>3350.0</td>\n",
       "      <td>0.17</td>\n",
       "      <td>...</td>\n",
       "      <td>1320.04</td>\n",
       "      <td>710.63</td>\n",
       "      <td>512.54</td>\n",
       "      <td>109.16</td>\n",
       "      <td>2.58</td>\n",
       "      <td>0</td>\n",
       "      <td>29038.17</td>\n",
       "      <td>65.66</td>\n",
       "      <td>7.35</td>\n",
       "      <td>0</td>\n",
       "    </tr>\n",
       "  </tbody>\n",
       "</table>\n",
       "<p>5 rows × 50 columns</p>\n",
       "</div>"
      ],
      "text/plain": [
       "   f_1    f_2      f_3     f_4  f_5       f_6    f_7   f_8      f_9  f_10  \\\n",
       "0    1   2558  1506.09  456.63   90   6395000  40.88  7.89  29780.0  0.19   \n",
       "1    2  22325    79.11  841.03  180  55812500  51.11  1.21  61900.0  0.02   \n",
       "2    3    115  1449.85  608.43   88    287500  40.42  7.34   3340.0  0.18   \n",
       "3    4   1201  1562.53  295.65   66   3002500  42.40  7.97  18030.0  0.19   \n",
       "4    5    312   950.27  440.86   37    780000  41.43  7.03   3350.0  0.17   \n",
       "\n",
       "   ...     f_41      f_42     f_43     f_44   f_45  f_46      f_47   f_48  \\\n",
       "0  ...  2850.00   1000.00   763.16   135.46   3.73     0  33243.19  65.74   \n",
       "1  ...  5750.00  11500.00  9593.48  1648.80   0.60     0  51572.04  65.73   \n",
       "2  ...  1400.00    250.00   150.00    45.13   9.33     1  31692.84  65.81   \n",
       "3  ...  6041.52    761.58   453.21   144.97  13.33     1  37696.21  65.67   \n",
       "4  ...  1320.04    710.63   512.54   109.16   2.58     0  29038.17  65.66   \n",
       "\n",
       "   f_49  target  \n",
       "0  7.95       1  \n",
       "1  6.26       0  \n",
       "2  7.84       1  \n",
       "3  8.07       1  \n",
       "4  7.35       0  \n",
       "\n",
       "[5 rows x 50 columns]"
      ]
     },
     "execution_count": 129,
     "metadata": {},
     "output_type": "execute_result"
    }
   ],
   "source": [
    "# Step 1: Data Loading and Preprocessing\n",
    "df = pd.read_csv('oil_spill.csv')\n",
    "df.head()"
   ]
  },
  {
   "cell_type": "code",
   "execution_count": 130,
   "id": "3c1fe648",
   "metadata": {},
   "outputs": [
    {
     "data": {
      "text/plain": [
       "(937, 50)"
      ]
     },
     "execution_count": 130,
     "metadata": {},
     "output_type": "execute_result"
    }
   ],
   "source": [
    "df.shape"
   ]
  },
  {
   "cell_type": "code",
   "execution_count": 131,
   "id": "373108e9",
   "metadata": {},
   "outputs": [
    {
     "data": {
      "text/plain": [
       "Index(['f_1', 'f_2', 'f_3', 'f_4', 'f_5', 'f_6', 'f_7', 'f_8', 'f_9', 'f_10',\n",
       "       'f_11', 'f_12', 'f_13', 'f_14', 'f_15', 'f_16', 'f_17', 'f_18', 'f_19',\n",
       "       'f_20', 'f_21', 'f_22', 'f_23', 'f_24', 'f_25', 'f_26', 'f_27', 'f_28',\n",
       "       'f_29', 'f_30', 'f_31', 'f_32', 'f_33', 'f_34', 'f_35', 'f_36', 'f_37',\n",
       "       'f_38', 'f_39', 'f_40', 'f_41', 'f_42', 'f_43', 'f_44', 'f_45', 'f_46',\n",
       "       'f_47', 'f_48', 'f_49', 'target'],\n",
       "      dtype='object')"
      ]
     },
     "execution_count": 131,
     "metadata": {},
     "output_type": "execute_result"
    }
   ],
   "source": [
    "df.columns"
   ]
  },
  {
   "cell_type": "code",
   "execution_count": 132,
   "id": "66916a65",
   "metadata": {},
   "outputs": [
    {
     "name": "stdout",
     "output_type": "stream",
     "text": [
      "<class 'pandas.core.frame.DataFrame'>\n",
      "RangeIndex: 937 entries, 0 to 936\n",
      "Data columns (total 50 columns):\n",
      " #   Column  Non-Null Count  Dtype  \n",
      "---  ------  --------------  -----  \n",
      " 0   f_1     937 non-null    int64  \n",
      " 1   f_2     937 non-null    int64  \n",
      " 2   f_3     937 non-null    float64\n",
      " 3   f_4     937 non-null    float64\n",
      " 4   f_5     937 non-null    int64  \n",
      " 5   f_6     937 non-null    int64  \n",
      " 6   f_7     937 non-null    float64\n",
      " 7   f_8     937 non-null    float64\n",
      " 8   f_9     937 non-null    float64\n",
      " 9   f_10    937 non-null    float64\n",
      " 10  f_11    937 non-null    float64\n",
      " 11  f_12    937 non-null    float64\n",
      " 12  f_13    937 non-null    float64\n",
      " 13  f_14    937 non-null    float64\n",
      " 14  f_15    937 non-null    float64\n",
      " 15  f_16    937 non-null    float64\n",
      " 16  f_17    937 non-null    float64\n",
      " 17  f_18    937 non-null    float64\n",
      " 18  f_19    937 non-null    float64\n",
      " 19  f_20    937 non-null    float64\n",
      " 20  f_21    937 non-null    float64\n",
      " 21  f_22    937 non-null    float64\n",
      " 22  f_23    937 non-null    int64  \n",
      " 23  f_24    937 non-null    float64\n",
      " 24  f_25    937 non-null    float64\n",
      " 25  f_26    937 non-null    float64\n",
      " 26  f_27    937 non-null    float64\n",
      " 27  f_28    937 non-null    float64\n",
      " 28  f_29    937 non-null    float64\n",
      " 29  f_30    937 non-null    float64\n",
      " 30  f_31    937 non-null    float64\n",
      " 31  f_32    937 non-null    float64\n",
      " 32  f_33    937 non-null    float64\n",
      " 33  f_34    937 non-null    float64\n",
      " 34  f_35    937 non-null    int64  \n",
      " 35  f_36    937 non-null    int64  \n",
      " 36  f_37    937 non-null    float64\n",
      " 37  f_38    937 non-null    float64\n",
      " 38  f_39    937 non-null    int64  \n",
      " 39  f_40    937 non-null    int64  \n",
      " 40  f_41    937 non-null    float64\n",
      " 41  f_42    937 non-null    float64\n",
      " 42  f_43    937 non-null    float64\n",
      " 43  f_44    937 non-null    float64\n",
      " 44  f_45    937 non-null    float64\n",
      " 45  f_46    937 non-null    int64  \n",
      " 46  f_47    937 non-null    float64\n",
      " 47  f_48    937 non-null    float64\n",
      " 48  f_49    937 non-null    float64\n",
      " 49  target  937 non-null    int64  \n",
      "dtypes: float64(39), int64(11)\n",
      "memory usage: 366.1 KB\n"
     ]
    }
   ],
   "source": [
    " df.info()\n",
    "#view the info of the dataset"
   ]
  },
  {
   "cell_type": "markdown",
   "id": "b76a977f",
   "metadata": {},
   "source": [
    "# Checking And Handling the null value and duplicates"
   ]
  },
  {
   "cell_type": "code",
   "execution_count": 180,
   "id": "8c62bdfd",
   "metadata": {},
   "outputs": [
    {
     "data": {
      "text/plain": [
       "0"
      ]
     },
     "execution_count": 180,
     "metadata": {},
     "output_type": "execute_result"
    }
   ],
   "source": [
    "df.duplicated().sum()#check the duplicate"
   ]
  },
  {
   "cell_type": "code",
   "execution_count": 183,
   "id": "58f12dff",
   "metadata": {},
   "outputs": [
    {
     "data": {
      "text/html": [
       "<div>\n",
       "<style scoped>\n",
       "    .dataframe tbody tr th:only-of-type {\n",
       "        vertical-align: middle;\n",
       "    }\n",
       "\n",
       "    .dataframe tbody tr th {\n",
       "        vertical-align: top;\n",
       "    }\n",
       "\n",
       "    .dataframe thead th {\n",
       "        text-align: right;\n",
       "    }\n",
       "</style>\n",
       "<table border=\"1\" class=\"dataframe\">\n",
       "  <thead>\n",
       "    <tr style=\"text-align: right;\">\n",
       "      <th></th>\n",
       "      <th>f_1</th>\n",
       "      <th>f_2</th>\n",
       "      <th>f_3</th>\n",
       "      <th>f_4</th>\n",
       "      <th>f_5</th>\n",
       "      <th>f_6</th>\n",
       "      <th>f_7</th>\n",
       "      <th>f_8</th>\n",
       "      <th>f_9</th>\n",
       "      <th>f_10</th>\n",
       "      <th>...</th>\n",
       "      <th>f_41</th>\n",
       "      <th>f_42</th>\n",
       "      <th>f_43</th>\n",
       "      <th>f_44</th>\n",
       "      <th>f_45</th>\n",
       "      <th>f_46</th>\n",
       "      <th>f_47</th>\n",
       "      <th>f_48</th>\n",
       "      <th>f_49</th>\n",
       "      <th>target</th>\n",
       "    </tr>\n",
       "  </thead>\n",
       "  <tbody>\n",
       "    <tr>\n",
       "      <th>count</th>\n",
       "      <td>937.000000</td>\n",
       "      <td>937.000000</td>\n",
       "      <td>937.000000</td>\n",
       "      <td>937.000000</td>\n",
       "      <td>937.000000</td>\n",
       "      <td>9.370000e+02</td>\n",
       "      <td>937.000000</td>\n",
       "      <td>937.000000</td>\n",
       "      <td>937.000000</td>\n",
       "      <td>937.000000</td>\n",
       "      <td>...</td>\n",
       "      <td>937.000000</td>\n",
       "      <td>937.000000</td>\n",
       "      <td>937.000000</td>\n",
       "      <td>937.000000</td>\n",
       "      <td>937.000000</td>\n",
       "      <td>937.000000</td>\n",
       "      <td>937.000000</td>\n",
       "      <td>937.000000</td>\n",
       "      <td>937.000000</td>\n",
       "      <td>937.000000</td>\n",
       "    </tr>\n",
       "    <tr>\n",
       "      <th>mean</th>\n",
       "      <td>81.588047</td>\n",
       "      <td>332.842049</td>\n",
       "      <td>698.707086</td>\n",
       "      <td>870.992209</td>\n",
       "      <td>84.121665</td>\n",
       "      <td>7.696964e+05</td>\n",
       "      <td>43.242721</td>\n",
       "      <td>9.127887</td>\n",
       "      <td>3940.712914</td>\n",
       "      <td>0.221003</td>\n",
       "      <td>...</td>\n",
       "      <td>933.928677</td>\n",
       "      <td>427.565582</td>\n",
       "      <td>255.435902</td>\n",
       "      <td>106.112519</td>\n",
       "      <td>5.014002</td>\n",
       "      <td>0.128068</td>\n",
       "      <td>7985.718004</td>\n",
       "      <td>61.694386</td>\n",
       "      <td>8.119723</td>\n",
       "      <td>0.043757</td>\n",
       "    </tr>\n",
       "    <tr>\n",
       "      <th>std</th>\n",
       "      <td>64.976730</td>\n",
       "      <td>1931.938570</td>\n",
       "      <td>599.965577</td>\n",
       "      <td>522.799325</td>\n",
       "      <td>45.361771</td>\n",
       "      <td>3.831151e+06</td>\n",
       "      <td>12.718404</td>\n",
       "      <td>3.588878</td>\n",
       "      <td>8167.427625</td>\n",
       "      <td>0.090316</td>\n",
       "      <td>...</td>\n",
       "      <td>1001.681331</td>\n",
       "      <td>715.391648</td>\n",
       "      <td>534.306194</td>\n",
       "      <td>135.617708</td>\n",
       "      <td>5.029151</td>\n",
       "      <td>0.334344</td>\n",
       "      <td>6854.504915</td>\n",
       "      <td>10.412807</td>\n",
       "      <td>2.908895</td>\n",
       "      <td>0.204662</td>\n",
       "    </tr>\n",
       "    <tr>\n",
       "      <th>min</th>\n",
       "      <td>1.000000</td>\n",
       "      <td>10.000000</td>\n",
       "      <td>1.920000</td>\n",
       "      <td>1.000000</td>\n",
       "      <td>0.000000</td>\n",
       "      <td>7.031200e+04</td>\n",
       "      <td>21.240000</td>\n",
       "      <td>0.830000</td>\n",
       "      <td>667.000000</td>\n",
       "      <td>0.020000</td>\n",
       "      <td>...</td>\n",
       "      <td>0.000000</td>\n",
       "      <td>0.000000</td>\n",
       "      <td>0.000000</td>\n",
       "      <td>0.000000</td>\n",
       "      <td>0.000000</td>\n",
       "      <td>0.000000</td>\n",
       "      <td>2051.500000</td>\n",
       "      <td>35.950000</td>\n",
       "      <td>5.810000</td>\n",
       "      <td>0.000000</td>\n",
       "    </tr>\n",
       "    <tr>\n",
       "      <th>25%</th>\n",
       "      <td>31.000000</td>\n",
       "      <td>20.000000</td>\n",
       "      <td>85.270000</td>\n",
       "      <td>444.200000</td>\n",
       "      <td>54.000000</td>\n",
       "      <td>1.250000e+05</td>\n",
       "      <td>33.650000</td>\n",
       "      <td>6.750000</td>\n",
       "      <td>1371.000000</td>\n",
       "      <td>0.160000</td>\n",
       "      <td>...</td>\n",
       "      <td>450.000000</td>\n",
       "      <td>180.000000</td>\n",
       "      <td>90.800000</td>\n",
       "      <td>50.120000</td>\n",
       "      <td>2.370000</td>\n",
       "      <td>0.000000</td>\n",
       "      <td>3760.570000</td>\n",
       "      <td>65.720000</td>\n",
       "      <td>6.340000</td>\n",
       "      <td>0.000000</td>\n",
       "    </tr>\n",
       "    <tr>\n",
       "      <th>50%</th>\n",
       "      <td>64.000000</td>\n",
       "      <td>65.000000</td>\n",
       "      <td>704.370000</td>\n",
       "      <td>761.280000</td>\n",
       "      <td>73.000000</td>\n",
       "      <td>1.863000e+05</td>\n",
       "      <td>39.970000</td>\n",
       "      <td>8.200000</td>\n",
       "      <td>2090.000000</td>\n",
       "      <td>0.200000</td>\n",
       "      <td>...</td>\n",
       "      <td>685.420000</td>\n",
       "      <td>270.000000</td>\n",
       "      <td>161.650000</td>\n",
       "      <td>73.850000</td>\n",
       "      <td>3.850000</td>\n",
       "      <td>0.000000</td>\n",
       "      <td>5509.430000</td>\n",
       "      <td>65.930000</td>\n",
       "      <td>7.220000</td>\n",
       "      <td>0.000000</td>\n",
       "    </tr>\n",
       "    <tr>\n",
       "      <th>75%</th>\n",
       "      <td>124.000000</td>\n",
       "      <td>132.000000</td>\n",
       "      <td>1223.480000</td>\n",
       "      <td>1260.370000</td>\n",
       "      <td>117.000000</td>\n",
       "      <td>3.304680e+05</td>\n",
       "      <td>52.420000</td>\n",
       "      <td>10.760000</td>\n",
       "      <td>3435.000000</td>\n",
       "      <td>0.260000</td>\n",
       "      <td>...</td>\n",
       "      <td>1053.420000</td>\n",
       "      <td>460.980000</td>\n",
       "      <td>265.510000</td>\n",
       "      <td>125.810000</td>\n",
       "      <td>6.320000</td>\n",
       "      <td>0.000000</td>\n",
       "      <td>9521.930000</td>\n",
       "      <td>66.130000</td>\n",
       "      <td>7.840000</td>\n",
       "      <td>0.000000</td>\n",
       "    </tr>\n",
       "    <tr>\n",
       "      <th>max</th>\n",
       "      <td>352.000000</td>\n",
       "      <td>32389.000000</td>\n",
       "      <td>1893.080000</td>\n",
       "      <td>2724.570000</td>\n",
       "      <td>180.000000</td>\n",
       "      <td>7.131500e+07</td>\n",
       "      <td>82.640000</td>\n",
       "      <td>24.690000</td>\n",
       "      <td>160740.000000</td>\n",
       "      <td>0.740000</td>\n",
       "      <td>...</td>\n",
       "      <td>11949.330000</td>\n",
       "      <td>11500.000000</td>\n",
       "      <td>9593.480000</td>\n",
       "      <td>1748.130000</td>\n",
       "      <td>76.630000</td>\n",
       "      <td>1.000000</td>\n",
       "      <td>55128.460000</td>\n",
       "      <td>66.450000</td>\n",
       "      <td>15.440000</td>\n",
       "      <td>1.000000</td>\n",
       "    </tr>\n",
       "  </tbody>\n",
       "</table>\n",
       "<p>8 rows × 50 columns</p>\n",
       "</div>"
      ],
      "text/plain": [
       "              f_1           f_2          f_3          f_4         f_5  \\\n",
       "count  937.000000    937.000000   937.000000   937.000000  937.000000   \n",
       "mean    81.588047    332.842049   698.707086   870.992209   84.121665   \n",
       "std     64.976730   1931.938570   599.965577   522.799325   45.361771   \n",
       "min      1.000000     10.000000     1.920000     1.000000    0.000000   \n",
       "25%     31.000000     20.000000    85.270000   444.200000   54.000000   \n",
       "50%     64.000000     65.000000   704.370000   761.280000   73.000000   \n",
       "75%    124.000000    132.000000  1223.480000  1260.370000  117.000000   \n",
       "max    352.000000  32389.000000  1893.080000  2724.570000  180.000000   \n",
       "\n",
       "                f_6         f_7         f_8            f_9        f_10  ...  \\\n",
       "count  9.370000e+02  937.000000  937.000000     937.000000  937.000000  ...   \n",
       "mean   7.696964e+05   43.242721    9.127887    3940.712914    0.221003  ...   \n",
       "std    3.831151e+06   12.718404    3.588878    8167.427625    0.090316  ...   \n",
       "min    7.031200e+04   21.240000    0.830000     667.000000    0.020000  ...   \n",
       "25%    1.250000e+05   33.650000    6.750000    1371.000000    0.160000  ...   \n",
       "50%    1.863000e+05   39.970000    8.200000    2090.000000    0.200000  ...   \n",
       "75%    3.304680e+05   52.420000   10.760000    3435.000000    0.260000  ...   \n",
       "max    7.131500e+07   82.640000   24.690000  160740.000000    0.740000  ...   \n",
       "\n",
       "               f_41          f_42         f_43         f_44        f_45  \\\n",
       "count    937.000000    937.000000   937.000000   937.000000  937.000000   \n",
       "mean     933.928677    427.565582   255.435902   106.112519    5.014002   \n",
       "std     1001.681331    715.391648   534.306194   135.617708    5.029151   \n",
       "min        0.000000      0.000000     0.000000     0.000000    0.000000   \n",
       "25%      450.000000    180.000000    90.800000    50.120000    2.370000   \n",
       "50%      685.420000    270.000000   161.650000    73.850000    3.850000   \n",
       "75%     1053.420000    460.980000   265.510000   125.810000    6.320000   \n",
       "max    11949.330000  11500.000000  9593.480000  1748.130000   76.630000   \n",
       "\n",
       "             f_46          f_47        f_48        f_49      target  \n",
       "count  937.000000    937.000000  937.000000  937.000000  937.000000  \n",
       "mean     0.128068   7985.718004   61.694386    8.119723    0.043757  \n",
       "std      0.334344   6854.504915   10.412807    2.908895    0.204662  \n",
       "min      0.000000   2051.500000   35.950000    5.810000    0.000000  \n",
       "25%      0.000000   3760.570000   65.720000    6.340000    0.000000  \n",
       "50%      0.000000   5509.430000   65.930000    7.220000    0.000000  \n",
       "75%      0.000000   9521.930000   66.130000    7.840000    0.000000  \n",
       "max      1.000000  55128.460000   66.450000   15.440000    1.000000  \n",
       "\n",
       "[8 rows x 50 columns]"
      ]
     },
     "execution_count": 183,
     "metadata": {},
     "output_type": "execute_result"
    }
   ],
   "source": [
    " # Summary of the data set\n",
    "df.describe()"
   ]
  },
  {
   "cell_type": "code",
   "execution_count": 133,
   "id": "8664bb0b",
   "metadata": {},
   "outputs": [
    {
     "data": {
      "text/plain": [
       "f_1       0\n",
       "f_2       0\n",
       "f_3       0\n",
       "f_4       0\n",
       "f_5       0\n",
       "f_6       0\n",
       "f_7       0\n",
       "f_8       0\n",
       "f_9       0\n",
       "f_10      0\n",
       "f_11      0\n",
       "f_12      0\n",
       "f_13      0\n",
       "f_14      0\n",
       "f_15      0\n",
       "f_16      0\n",
       "f_17      0\n",
       "f_18      0\n",
       "f_19      0\n",
       "f_20      0\n",
       "f_21      0\n",
       "f_22      0\n",
       "f_23      0\n",
       "f_24      0\n",
       "f_25      0\n",
       "f_26      0\n",
       "f_27      0\n",
       "f_28      0\n",
       "f_29      0\n",
       "f_30      0\n",
       "f_31      0\n",
       "f_32      0\n",
       "f_33      0\n",
       "f_34      0\n",
       "f_35      0\n",
       "f_36      0\n",
       "f_37      0\n",
       "f_38      0\n",
       "f_39      0\n",
       "f_40      0\n",
       "f_41      0\n",
       "f_42      0\n",
       "f_43      0\n",
       "f_44      0\n",
       "f_45      0\n",
       "f_46      0\n",
       "f_47      0\n",
       "f_48      0\n",
       "f_49      0\n",
       "target    0\n",
       "dtype: int64"
      ]
     },
     "execution_count": 133,
     "metadata": {},
     "output_type": "execute_result"
    }
   ],
   "source": [
    "df.isnull().sum()#ckeck the null value"
   ]
  },
  {
   "cell_type": "code",
   "execution_count": 134,
   "id": "1aafb8bf",
   "metadata": {},
   "outputs": [
    {
     "data": {
      "text/plain": [
       "f_1         int64\n",
       "f_2         int64\n",
       "f_3       float64\n",
       "f_4       float64\n",
       "f_5         int64\n",
       "f_6         int64\n",
       "f_7       float64\n",
       "f_8       float64\n",
       "f_9       float64\n",
       "f_10      float64\n",
       "f_11      float64\n",
       "f_12      float64\n",
       "f_13      float64\n",
       "f_14      float64\n",
       "f_15      float64\n",
       "f_16      float64\n",
       "f_17      float64\n",
       "f_18      float64\n",
       "f_19      float64\n",
       "f_20      float64\n",
       "f_21      float64\n",
       "f_22      float64\n",
       "f_23        int64\n",
       "f_24      float64\n",
       "f_25      float64\n",
       "f_26      float64\n",
       "f_27      float64\n",
       "f_28      float64\n",
       "f_29      float64\n",
       "f_30      float64\n",
       "f_31      float64\n",
       "f_32      float64\n",
       "f_33      float64\n",
       "f_34      float64\n",
       "f_35        int64\n",
       "f_36        int64\n",
       "f_37      float64\n",
       "f_38      float64\n",
       "f_39        int64\n",
       "f_40        int64\n",
       "f_41      float64\n",
       "f_42      float64\n",
       "f_43      float64\n",
       "f_44      float64\n",
       "f_45      float64\n",
       "f_46        int64\n",
       "f_47      float64\n",
       "f_48      float64\n",
       "f_49      float64\n",
       "target      int64\n",
       "dtype: object"
      ]
     },
     "execution_count": 134,
     "metadata": {},
     "output_type": "execute_result"
    }
   ],
   "source": [
    "df.dtypes"
   ]
  },
  {
   "cell_type": "code",
   "execution_count": 135,
   "id": "50f6f9c0",
   "metadata": {},
   "outputs": [
    {
     "data": {
      "text/plain": [
       "float64    39\n",
       "int64      11\n",
       "dtype: int64"
      ]
     },
     "execution_count": 135,
     "metadata": {},
     "output_type": "execute_result"
    }
   ],
   "source": [
    "df.dtypes.value_counts()"
   ]
  },
  {
   "cell_type": "code",
   "execution_count": 136,
   "id": "7f1fe8a4",
   "metadata": {},
   "outputs": [
    {
     "data": {
      "text/plain": [
       "0"
      ]
     },
     "execution_count": 136,
     "metadata": {},
     "output_type": "execute_result"
    }
   ],
   "source": [
    "df.duplicated().sum()"
   ]
  },
  {
   "cell_type": "markdown",
   "id": "7a14caa3",
   "metadata": {},
   "source": [
    "# Inference\n",
    "1) There are no duplicates in train and test data."
   ]
  },
  {
   "cell_type": "code",
   "execution_count": 137,
   "id": "abcd836d",
   "metadata": {},
   "outputs": [
    {
     "data": {
      "text/plain": [
       "238"
      ]
     },
     "execution_count": 137,
     "metadata": {},
     "output_type": "execute_result"
    }
   ],
   "source": [
    "df['f_1'].nunique()"
   ]
  },
  {
   "cell_type": "code",
   "execution_count": 138,
   "id": "c55a0fb4",
   "metadata": {},
   "outputs": [],
   "source": [
    "#df.drop('f_1',inplace=True,axis=1)\n",
    "#df.columns"
   ]
  },
  {
   "cell_type": "code",
   "execution_count": 139,
   "id": "98f75753",
   "metadata": {},
   "outputs": [
    {
     "data": {
      "text/plain": [
       "2"
      ]
     },
     "execution_count": 139,
     "metadata": {},
     "output_type": "execute_result"
    }
   ],
   "source": [
    "df['target'].nunique()"
   ]
  },
  {
   "cell_type": "markdown",
   "id": "03268f7d",
   "metadata": {},
   "source": [
    "# Target Variable "
   ]
  },
  {
   "cell_type": "code",
   "execution_count": 140,
   "id": "583334be",
   "metadata": {},
   "outputs": [
    {
     "data": {
      "text/plain": [
       "0    896\n",
       "1     41\n",
       "Name: target, dtype: int64"
      ]
     },
     "execution_count": 140,
     "metadata": {},
     "output_type": "execute_result"
    }
   ],
   "source": [
    "df['target'].value_counts()"
   ]
  },
  {
   "cell_type": "markdown",
   "id": "f91267ca",
   "metadata": {},
   "source": [
    "# Exploratory Data Analysis"
   ]
  },
  {
   "cell_type": "code",
   "execution_count": 174,
   "id": "c7470dd0",
   "metadata": {},
   "outputs": [
    {
     "data": {
      "image/png": "[encoded data removed]",
      "text/plain": [
       "<Figure size 432x288 with 1 Axes>"
      ]
     },
     "metadata": {
      "needs_background": "light"
     },
     "output_type": "display_data"
    }
   ],
   "source": [
    "sns.countplot(y=df['f_1'],\n",
    " order=df['f_1'].value_counts().sort_values(ascending=False)[:5].index)\n",
    "plt.title('oil_spill')\n",
    "plt.show()"
   ]
  },
  {
   "cell_type": "code",
   "execution_count": 186,
   "id": "9edb38e7",
   "metadata": {},
   "outputs": [
    {
     "data": {
      "image/png": "[encoded data removed]",
      "text/plain": [
       "<Figure size 864x576 with 1 Axes>"
      ]
     },
     "metadata": {
      "needs_background": "light"
     },
     "output_type": "display_data"
    }
   ],
   "source": [
    " # Plot of Car Models Distribution\n",
    "figure=plt.figure(figsize=(12,8))\n",
    "plt.title('oli Models Distribution', fontsize=18)\n",
    "plot = sns.countplot(x=\"target\", data=df, order = df['target'].value_counts().index[:5], palette='ocean')\n",
    "plt.show()"
   ]
  },
  {
   "cell_type": "code",
   "execution_count": 191,
   "id": "5b120c35",
   "metadata": {},
   "outputs": [
    {
     "data": {
      "image/png": "[encoded data removed]",
      "text/plain": [
       "<Figure size 360x360 with 1 Axes>"
      ]
     },
     "metadata": {
      "needs_background": "light"
     },
     "output_type": "display_data"
    },
    {
     "data": {
      "text/plain": [
       "<Figure size 576x432 with 0 Axes>"
      ]
     },
     "metadata": {},
     "output_type": "display_data"
    }
   ],
   "source": [
    "sns.displot(df['f_1'])\n",
    "plt.figure(figsize=(8,6))\n",
    "plt.show()"
   ]
  },
  {
   "cell_type": "markdown",
   "id": "5ad3105d",
   "metadata": {},
   "source": [
    "# data processing"
   ]
  },
  {
   "cell_type": "raw",
   "id": "5ab43211",
   "metadata": {},
   "source": [
    " Correlation"
   ]
  },
  {
   "cell_type": "code",
   "execution_count": 169,
   "id": "c09ce6f6",
   "metadata": {},
   "outputs": [
    {
     "data": {
      "image/png": "[encoded data removed]",
      "text/plain": [
       "<Figure size 1152x1080 with 2 Axes>"
      ]
     },
     "metadata": {
      "needs_background": "light"
     },
     "output_type": "display_data"
    }
   ],
   "source": [
    "corr = df.corr()\n",
    "plt.figure(figsize=(16,15))\n",
    "corr = corr[abs(corr)>=0.9]\n",
    "sns.heatmap(corr,annot=True,cmap='RdBu')\n",
    "plt.title('Correlation Matrix')\n",
    "plt.show()"
   ]
  },
  {
   "cell_type": "markdown",
   "id": "e8344c8d",
   "metadata": {},
   "source": [
    "# Selecting Dependent and Independent Features"
   ]
  },
  {
   "cell_type": "code",
   "execution_count": 142,
   "id": "085ce01f",
   "metadata": {},
   "outputs": [
    {
     "name": "stdout",
     "output_type": "stream",
     "text": [
      "<class 'pandas.core.frame.DataFrame'>\n",
      "<class 'pandas.core.series.Series'>\n",
      "(937, 49)\n",
      "(937,)\n"
     ]
    }
   ],
   "source": [
    "x = df.drop('target',axis=1)\n",
    "y = df['target']\n",
    "print(type(x))\n",
    "print(type(y))\n",
    "print(x.shape)\n",
    "print(y.shape)"
   ]
  },
  {
   "cell_type": "markdown",
   "id": "09b69fd2",
   "metadata": {},
   "source": [
    "# Split the data into train and test"
   ]
  },
  {
   "cell_type": "code",
   "execution_count": 145,
   "id": "bbda5228",
   "metadata": {},
   "outputs": [
    {
     "name": "stdout",
     "output_type": "stream",
     "text": [
      "(749, 49)\n",
      "(188, 49)\n",
      "(749,)\n"
     ]
    }
   ],
   "source": [
    "# Spliting training and testing dataset\n",
    "from sklearn.model_selection import train_test_split\n",
    "x_train, x_test, y_train,y_test = train_test_split(x,y,test_size = 0.2, random_state=42)\n",
    "print(x_train.shape)\n",
    "print(x_test.shape)\n",
    "print(y_train.shape)"
   ]
  },
  {
   "cell_type": "markdown",
   "id": "ebe8c7b2",
   "metadata": {},
   "source": [
    "# Create function to cpmute MSE, RMSE, MAE,Trai and Test Test Score"
   ]
  },
  {
   "cell_type": "code",
   "execution_count": 149,
   "id": "b0f0e048",
   "metadata": {},
   "outputs": [],
   "source": [
    "from sklearn.metrics import mean_squared_error,mean_absolute_error"
   ]
  },
  {
   "cell_type": "code",
   "execution_count": 150,
   "id": "25def23d",
   "metadata": {},
   "outputs": [],
   "source": [
    "def eval_model(ytest,ypred):\n",
    "    mae = mean_absolute_error(ytest,ypred)\n",
    "    mse = mean_squared_error(ytest,ypred)\n",
    "    rmse = np.sqrt(mse)\n",
    "    r2s = r2_score(ytest,ypred)\n",
    "    print('MAE',mae)\n",
    "    print('MSE',mse)\n",
    "    print('RMSE',rmse)\n",
    "    print('R2 Score',r2s)"
   ]
  },
  {
   "cell_type": "markdown",
   "id": "48097187",
   "metadata": {},
   "source": [
    "# Import ML model building libraries"
   ]
  },
  {
   "cell_type": "code",
   "execution_count": 151,
   "id": "a330477d",
   "metadata": {},
   "outputs": [],
   "source": [
    "# Major Import\n",
    "from sklearn.linear_model import LinearRegression, Ridge, Lasso\n",
    "from sklearn.ensemble import RandomForestRegressor, AdaBoostRegressor\n",
    "from sklearn.tree import DecisionTreeRegressor\n",
    "from sklearn.neighbors import KNeighborsRegressor\n",
    "from sklearn.preprocessing import OneHotEncoder\n",
    "from sklearn.compose import ColumnTransformer\n",
    "from sklearn.pipeline import Pipeline\n",
    "from sklearn.preprocessing import OneHotEncoder\n",
    "from sklearn.metrics import accuracy_score, classification_report\n",
    "from sklearn.metrics import r2_score\n",
    "from sklearn.metrics import confusion_matrix, ConfusionMatrixDisplay"
   ]
  },
  {
   "cell_type": "code",
   "execution_count": 152,
   "id": "552c006f",
   "metadata": {},
   "outputs": [
    {
     "data": {
      "text/plain": [
       "f_1       int64\n",
       "f_2       int64\n",
       "f_3     float64\n",
       "f_4     float64\n",
       "f_5       int64\n",
       "f_6       int64\n",
       "f_7     float64\n",
       "f_8     float64\n",
       "f_9     float64\n",
       "f_10    float64\n",
       "f_11    float64\n",
       "f_12    float64\n",
       "f_13    float64\n",
       "f_14    float64\n",
       "f_15    float64\n",
       "f_16    float64\n",
       "f_17    float64\n",
       "f_18    float64\n",
       "f_19    float64\n",
       "f_20    float64\n",
       "f_21    float64\n",
       "f_22    float64\n",
       "f_23      int64\n",
       "f_24    float64\n",
       "f_25    float64\n",
       "f_26    float64\n",
       "f_27    float64\n",
       "f_28    float64\n",
       "f_29    float64\n",
       "f_30    float64\n",
       "f_31    float64\n",
       "f_32    float64\n",
       "f_33    float64\n",
       "f_34    float64\n",
       "f_35      int64\n",
       "f_36      int64\n",
       "f_37    float64\n",
       "f_38    float64\n",
       "f_39      int64\n",
       "f_40      int64\n",
       "f_41    float64\n",
       "f_42    float64\n",
       "f_43    float64\n",
       "f_44    float64\n",
       "f_45    float64\n",
       "f_46      int64\n",
       "f_47    float64\n",
       "f_48    float64\n",
       "f_49    float64\n",
       "dtype: object"
      ]
     },
     "execution_count": 152,
     "metadata": {},
     "output_type": "execute_result"
    }
   ],
   "source": [
    "x_train.dtypes"
   ]
  },
  {
   "cell_type": "markdown",
   "id": "aa80748f",
   "metadata": {},
   "source": [
    "# Columns index that needs to undergo OneHotEncoding - [0,2,3,4,5]"
   ]
  },
  {
   "cell_type": "code",
   "execution_count": 159,
   "id": "f6e43bde",
   "metadata": {},
   "outputs": [
    {
     "name": "stdout",
     "output_type": "stream",
     "text": [
      "0.2955894919281641 0\n",
      "0.2955894919281641 1\n",
      "0.2955894919281641 2\n",
      "0.2955894919281641 3\n",
      "0.2955894919281641 4\n",
      "0.2955894919281641 5\n",
      "0.2955894919281641 6\n",
      "0.2955894919281641 7\n",
      "0.2955894919281641 8\n",
      "0.2955894919281641 9\n",
      "0.2955894919281641 10\n",
      "0.2955894919281641 11\n",
      "0.2955894919281641 12\n",
      "0.2955894919281641 13\n",
      "0.2955894919281641 14\n",
      "0.2955894919281641 15\n",
      "0.2955894919281641 16\n",
      "0.2955894919281641 17\n",
      "0.2955894919281641 18\n",
      "0.2955894919281641 19\n"
     ]
    }
   ],
   "source": [
    "scores=[]\n",
    "for i in range(20):\n",
    "    x_train,x_test, y_train,y_test=train_test_split(x,y,test_size = 0.2, random_state=42)\n",
    "    stap2 = LinearRegression()\n",
    "    pipe_lr = Pipeline([('step1',step1),('step2',step2)])\n",
    "    pipe_lr.fit(x_train, y_train)\n",
    "    y_pred=pipe_lr.predict(x_test)\n",
    "    scores.append(r2_score(y_test,y_pred))\n",
    "    print(r2_score(y_test,y_pred), i)"
   ]
  },
  {
   "cell_type": "code",
   "execution_count": 160,
   "id": "6bc62345",
   "metadata": {},
   "outputs": [
    {
     "data": {
      "text/plain": [
       "0.2955894919281641"
      ]
     },
     "execution_count": 160,
     "metadata": {},
     "output_type": "execute_result"
    }
   ],
   "source": [
    "scores[np.argmax(scores)]"
   ]
  },
  {
   "cell_type": "code",
   "execution_count": 166,
   "id": "ace60a26",
   "metadata": {},
   "outputs": [
    {
     "name": "stdout",
     "output_type": "stream",
     "text": [
      "MAE 0.03653915995314097\n",
      "MSE 0.014754021406608362\n",
      "RMSE 0.12146613275563013\n",
      "R2 Score 0.5224669115428884\n"
     ]
    }
   ],
   "source": [
    "step1 = ColumnTransformer(transformers=[('ohe',OneHotEncoder(handle_unknown = 'ignore',categories='auto',\n",
    "                                                             sparse_output=False),[0,3,4,5,10])],remainder='passthrough')\n",
    "step2 = RandomForestRegressor(n_estimators=100,max_depth=8,min_samples_split=11,random_state=5)\n",
    "pipe_rf = Pipeline([('step1',step1),('step2',step2)])\n",
    "pipe_rf.fit(x_train,y_train)\n",
    "ypred_rf = pipe_rf.predict(x_test)\n",
    "eval_model(y_test,ypred_rf)"
   ]
  },
  {
   "cell_type": "code",
   "execution_count": 161,
   "id": "3d015096",
   "metadata": {},
   "outputs": [
    {
     "name": "stdout",
     "output_type": "stream",
     "text": [
      "MAE 0.0995100903690714\n",
      "MSE 0.025066758682166682\n",
      "RMSE 0.15832485175160177\n",
      "R2 Score 0.18868175928342557\n"
     ]
    }
   ],
   "source": [
    "step1 = ColumnTransformer(transformers=[('ohe',OneHotEncoder(handle_unknown = 'ignore',categories='auto',\n",
    "                                                             sparse_output=False),[0,3,4,5,10])],remainder='passthrough')\n",
    "\n",
    "step2 = LinearRegression()\n",
    "pipe_lr = Pipeline([('step1',step1),('step2',step2)])\n",
    "pipe_lr.fit(x_train,y_train)\n",
    "ypred_lr = pipe_lr.predict(x_test)\n",
    "eval_model(y_test,ypred_lr)"
   ]
  },
  {
   "cell_type": "code",
   "execution_count": 162,
   "id": "55bb615f",
   "metadata": {},
   "outputs": [
    {
     "name": "stdout",
     "output_type": "stream",
     "text": [
      "MAE 0.08541308322564642\n",
      "MSE 0.020896218594719514\n",
      "RMSE 0.14455524409276724\n",
      "R2 Score 0.32366671244343725\n"
     ]
    }
   ],
   "source": [
    "step1 = ColumnTransformer(transformers=[('ohe',OneHotEncoder(handle_unknown = 'ignore',categories='auto',\n",
    "                                                             sparse_output=False),[0,3,4,5,10])],remainder='passthrough')\n",
    "step2 = Ridge(alpha=2.41)\n",
    "pipe_rid = Pipeline([('step1',step1),('step2',step2)])\n",
    "pipe_rid.fit(x_train,y_train)\n",
    "ypred_rid = pipe_rid.predict(x_test)\n",
    "eval_model(y_test,ypred_rid)"
   ]
  },
  {
   "cell_type": "code",
   "execution_count": 163,
   "id": "89f30c80",
   "metadata": {},
   "outputs": [
    {
     "name": "stdout",
     "output_type": "stream",
     "text": [
      "MAE 0.07227085712757703\n",
      "MSE 0.021936165973418888\n",
      "RMSE 0.14810862896340268\n",
      "R2 Score 0.2900074632193066\n"
     ]
    }
   ],
   "source": [
    "step1 = ColumnTransformer(transformers=[('ohe',OneHotEncoder(handle_unknown = 'ignore',categories='auto',\n",
    "                                                             sparse_output=False),[0,3,4,5,10])],remainder='passthrough')\n",
    "step2 = Lasso(alpha=0.234)\n",
    "pipe_las = Pipeline([('step1',step1),('step2',step2)])\n",
    "pipe_las.fit(x_train,y_train)\n",
    "ypred_las = pipe_las.predict(x_test)\n",
    "eval_model(y_test,ypred_las)"
   ]
  },
  {
   "cell_type": "code",
   "execution_count": 164,
   "id": "2826ec44",
   "metadata": {},
   "outputs": [
    {
     "name": "stdout",
     "output_type": "stream",
     "text": [
      "MAE 0.037846232332022924\n",
      "MSE 0.021763701754596108\n",
      "RMSE 0.14752525802246919\n",
      "R2 Score 0.2955894919281641\n"
     ]
    }
   ],
   "source": [
    "step1 = ColumnTransformer(transformers=[('ohe',OneHotEncoder(handle_unknown = 'ignore',categories='auto',\n",
    "                                                             sparse_output=False),[0,3,4,5,10])],remainder='passthrough')\n",
    "step2 = DecisionTreeRegressor(max_depth=8,min_samples_split=11,random_state=5)\n",
    "pipe_dt = Pipeline([('step1',step1),('step2',step2)])\n",
    "pipe_dt.fit(x_train,y_train)\n",
    "ypred_dt = pipe_dt.predict(x_test)\n",
    "eval_model(y_test,ypred_dt)"
   ]
  },
  {
   "cell_type": "markdown",
   "id": "585b5977",
   "metadata": {},
   "source": [
    "# Random Forrest model is best performing model in terms of RMSE value"
   ]
  },
  {
   "cell_type": "code",
   "execution_count": 192,
   "id": "6bd44e8c",
   "metadata": {},
   "outputs": [
    {
     "name": "stdout",
     "output_type": "stream",
     "text": [
      "<class 'pandas.core.frame.DataFrame'>\n"
     ]
    }
   ],
   "source": [
    "print(type(x_test))"
   ]
  },
  {
   "cell_type": "code",
   "execution_count": 193,
   "id": "b61233b0",
   "metadata": {},
   "outputs": [],
   "source": [
    " import pickle"
   ]
  },
  {
   "cell_type": "code",
   "execution_count": 195,
   "id": "2dae7918",
   "metadata": {},
   "outputs": [],
   "source": [
    "# Step 5: Save and Load the Best Model\n",
    "# Save the model to a file\n",
    "with open('best_model.pkl', 'wb') as file:\n",
    "    pickle.dump(df, file)"
   ]
  },
  {
   "cell_type": "code",
   "execution_count": 196,
   "id": "4b1b07fe",
   "metadata": {},
   "outputs": [],
   "source": [
    "# Load the saved model\n",
    "with open('best_model.pkl', 'rb') as file:\n",
    "    saved_model = pickle.load(file)"
   ]
  },
  {
   "cell_type": "code",
   "execution_count": 205,
   "id": "97fc0c4d",
   "metadata": {},
   "outputs": [],
   "source": [
    "#print(type(loaded_pipeline))"
   ]
  },
  {
   "cell_type": "code",
   "execution_count": 204,
   "id": "18196d02",
   "metadata": {},
   "outputs": [],
   "source": [
    "#predict_price = loaded_pipeline.predict(new_df)"
   ]
  },
  {
   "cell_type": "code",
   "execution_count": 202,
   "id": "d0b31dba",
   "metadata": {},
   "outputs": [],
   "source": [
    "#new_df['predict_price']= predict_price\n",
    "#new_df.head(20)"
   ]
  },
  {
   "cell_type": "code",
   "execution_count": null,
   "id": "7739aa0e",
   "metadata": {},
   "outputs": [],
   "source": [
    " "
   ]
  },
  {
   "cell_type": "code",
   "execution_count": null,
   "id": "96e50a47",
   "metadata": {},
   "outputs": [],
   "source": []
  }
 ],
 "metadata": {
  "kernelspec": {
   "display_name": "Python 3 (ipykernel)",
   "language": "python",
   "name": "python3"
  },
  "language_info": {
   "codemirror_mode": {
    "name": "ipython",
    "version": 3
   },
   "file_extension": ".py",
   "mimetype": "text/x-python",
   "name": "python",
   "nbconvert_exporter": "python",
   "pygments_lexer": "ipython3",
   "version": "3.9.12"
  }
 },
 "nbformat": 4,
 "nbformat_minor": 5
}
